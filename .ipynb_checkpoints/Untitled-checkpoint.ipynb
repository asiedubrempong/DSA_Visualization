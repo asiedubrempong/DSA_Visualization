{
 "cells": [
  {
   "cell_type": "code",
   "execution_count": 2,
   "metadata": {
    "collapsed": true
   },
   "outputs": [],
   "source": [
    "import tweepy\n",
    "import nltk\n",
    "import pandas as pd\n",
    "import sys\n",
    "import csv \n",
    "from wordcloud import WordCloud, STOPWORDS\n",
    "import matplotlib as plt\n",
    "import re\n",
    "from PIL import Image\n",
    "# import pandas_profiling "
   ]
  },
  {
   "cell_type": "code",
   "execution_count": 5,
   "metadata": {},
   "outputs": [],
   "source": [
    "# The keys have been displayed here becuase they are not to be shared.\n",
    "# The value inside quotes must be replaced by your keys if you are using this.\n",
    "import twitter\n",
    "# from twitter import Twitter\n",
    "#api = twitter.Api(consumer_key='consumer_key',consumer_secret='consumer_secret',\n",
    "#access_token_key='access_token',access_token_secret='access_token_secret')\n",
    "# print(twitter.__file__)\n",
    "api = twitter.Api(consumer_key='ryoIytUyHBiBxK7aIk1H48la8',\n",
    "                      consumer_secret='Yzc5tDJtf6t8iJvAt6Cq6G4SPatw0AFtpOtwKodLXrNAkqlKjF',\n",
    "                      access_token_key='382027921-go6DGgjXikmEb1XZqeNYSTh1GzfoMWW4yeIU8FYB',\n",
    "access_token_secret='OiP1HPILePOIHQLAKoQqkgonvXM31Fil1HTP7BfKpMrP0')"
   ]
  },
  {
   "cell_type": "code",
   "execution_count": 6,
   "metadata": {},
   "outputs": [
    {
     "name": "stdout",
     "output_type": "stream",
     "text": [
      "{\"created_at\": \"Thu Sep 29 11:11:14 +0000 2011\", \"description\": \"#DataAnalystics @PulseLabKampala - @UNGlobalPulse. Loves God. Interested in good data designs, #fashion, beauty & #travel.\", \"favourites_count\": 126, \"followers_count\": 204, \"friends_count\": 317, \"id\": 382027921, \"id_str\": \"382027921\", \"listed_count\": 1, \"location\": \"Kampala, Uganda\", \"name\": \"morine amutorine andria\", \"profile_background_color\": \"000000\", \"profile_background_image_url\": \"http://abs.twimg.com/images/themes/theme7/bg.gif\", \"profile_background_image_url_https\": \"https://abs.twimg.com/images/themes/theme7/bg.gif\", \"profile_banner_url\": \"https://pbs.twimg.com/profile_banners/382027921/1539609703\", \"profile_image_url\": \"http://pbs.twimg.com/profile_images/1051826834667659265/xGJqiF_d_normal.jpg\", \"profile_image_url_https\": \"https://pbs.twimg.com/profile_images/1051826834667659265/xGJqiF_d_normal.jpg\", \"profile_link_color\": \"E81C4F\", \"profile_sidebar_border_color\": \"000000\", \"profile_sidebar_fill_color\": \"000000\", \"profile_text_color\": \"000000\", \"screen_name\": \"M_moryn\", \"status\": {\"created_at\": \"Wed May 15 14:46:13 +0000 2019\", \"id\": 1128672941519060992, \"id_str\": \"1128672941519060992\", \"lang\": \"en\", \"retweet_count\": 1, \"retweeted\": true, \"retweeted_status\": {\"created_at\": \"Tue May 14 13:49:44 +0000 2019\", \"id\": 1128296336724582405, \"id_str\": \"1128296336724582405\", \"lang\": \"en\", \"retweet_count\": 1, \"retweeted\": true, \"source\": \"<a href=\\\"http://twitter.com\\\" rel=\\\"nofollow\\\">Twitter Web Client</a>\", \"text\": \"Are you interested in discovering Africa using location #intelligence?  Find out more @Africa @geoportal @Esri. For\\u2026 https://t.co/mmTGdHGn0Z\", \"truncated\": true}, \"source\": \"<a href=\\\"https://mobile.twitter.com\\\" rel=\\\"nofollow\\\">Twitter Web App</a>\", \"text\": \"RT @PulseLabKampala: Are you interested in discovering Africa using location #intelligence?  Find out more @Africa @geoportal @Esri. For mo\\u2026\"}, \"statuses_count\": 281}\n"
     ]
    }
   ],
   "source": [
    "#Print your credentials and check\n",
    "print (api.VerifyCredentials())\n",
    "# for this to work, you might need to be logged into your twitter account in the same browser"
   ]
  },
  {
   "cell_type": "code",
   "execution_count": 17,
   "metadata": {},
   "outputs": [
    {
     "name": "stdout",
     "output_type": "stream",
     "text": [
      "{u'quote_count': 0, u'contributors': None, u'truncated': False, u'text': u\"@IamPamellah Thanks Pamella...you've supported me so well....\", u'is_quote_status': False, u'in_reply_to_status_id': 1132926511990890496, u'reply_count': 0, u'id': 1132928452481495040, u'favorite_count': 0, u'entities': {u'user_mentions': [{u'id': 804758525905801217, u'indices': [0, 12], u'id_str': u'804758525905801217', u'screen_name': u'IamPamellah', u'name': u'Gal From Kashari'}], u'symbols': [], u'hashtags': [], u'urls': []}, u'retweeted': False, u'coordinates': None, u'timestamp_ms': u'1558946166521', u'source': u'<a href=\"http://twitter.com/download/android\" rel=\"nofollow\">Twitter for Android</a>', u'in_reply_to_screen_name': u'IamPamellah', u'id_str': u'1132928452481495040', u'display_text_range': [13, 61], u'retweet_count': 0, u'in_reply_to_user_id': 804758525905801217, u'favorited': False, u'user': {u'follow_request_sent': None, u'profile_use_background_image': False, u'default_profile_image': False, u'id': 758539753, u'default_profile': False, u'verified': False, u'profile_image_url_https': u'https://pbs.twimg.com/profile_images/1131288651999137793/I1aB4Xbb_normal.jpg', u'profile_sidebar_fill_color': u'000000', u'profile_text_color': u'000000', u'followers_count': 3806, u'profile_sidebar_border_color': u'000000', u'id_str': u'758539753', u'profile_background_color': u'000000', u'listed_count': 16, u'profile_background_image_url_https': u'https://abs.twimg.com/images/themes/theme1/bg.png', u'utc_offset': None, u'statuses_count': 15015, u'description': u'News Reporter @Nbstv /@NextmediaUg /Social Media Marketing/Advertising/ Team leader @DukesMediaug / Journalist/Actor/Father/Future Husband\\U0001f64f\\U0001f64f', u'friends_count': 1572, u'location': u'Kampala', u'profile_link_color': u'1B95E0', u'profile_image_url': u'http://pbs.twimg.com/profile_images/1131288651999137793/I1aB4Xbb_normal.jpg', u'following': None, u'geo_enabled': True, u'profile_banner_url': u'https://pbs.twimg.com/profile_banners/758539753/1534261814', u'profile_background_image_url': u'http://abs.twimg.com/images/themes/theme1/bg.png', u'name': u'DENIS DUKE WONIALA\\U0001f1fa\\U0001f1ec', u'lang': None, u'profile_background_tile': False, u'favourites_count': 26376, u'screen_name': u'DenisDukeUG', u'notifications': None, u'url': u'https://www.youtube.com/channel/UCI82EetZ1SRV-52es7tnTqg', u'created_at': u'Wed Aug 15 04:12:20 +0000 2012', u'contributors_enabled': False, u'time_zone': None, u'protected': False, u'translator_type': u'none', u'is_translator': False}, u'geo': None, u'in_reply_to_user_id_str': u'804758525905801217', u'lang': u'en', u'created_at': u'Mon May 27 08:36:06 +0000 2019', u'filter_level': u'low', u'in_reply_to_status_id_str': u'1132926511990890496', u'place': {u'full_name': u'Kampala, Uganda', u'url': u'https://api.twitter.com/1.1/geo/id/000c69ad123213a8.json', u'country': u'Uganda', u'place_type': u'admin', u'bounding_box': {u'type': u'Polygon', u'coordinates': [[[32.416623, 0.164853], [32.416623, 0.413682], [32.721697, 0.413682], [32.721697, 0.164853]]]}, u'country_code': u'UG', u'attributes': {}, u'id': u'000c69ad123213a8', u'name': u'Kampala'}}\n"
     ]
    }
   ],
   "source": [
    "# let's look at some tweets\n",
    "# Filter by location; location coordinates (https://gist.github.com/graydon/11198540)\n",
    "for tweet in api.GetStreamFilter(locations = ['32.5532,0.2944,32.6212,0.3564']): \n",
    "# for tweet in api.GetStreamFilter(locations = ['16.3449768409,-34.8191663551,32.830120477,-22.0913127581']):\n",
    "    print (tweet)\n",
    "    break "
   ]
  },
  {
   "cell_type": "code",
   "execution_count": null,
   "metadata": {
    "collapsed": true
   },
   "outputs": [],
   "source": []
  }
 ],
 "metadata": {
  "kernelspec": {
   "display_name": "Python 2",
   "language": "python",
   "name": "python2"
  },
  "language_info": {
   "codemirror_mode": {
    "name": "ipython",
    "version": 2
   },
   "file_extension": ".py",
   "mimetype": "text/x-python",
   "name": "python",
   "nbconvert_exporter": "python",
   "pygments_lexer": "ipython2",
   "version": "2.7.10"
  }
 },
 "nbformat": 4,
 "nbformat_minor": 2
}
