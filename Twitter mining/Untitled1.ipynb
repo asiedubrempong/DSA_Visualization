{
 "cells": [
  {
   "cell_type": "markdown",
   "metadata": {},
   "source": [
    "## Mining tweets from a particular user"
   ]
  },
  {
   "cell_type": "code",
   "execution_count": null,
   "metadata": {
    "collapsed": true
   },
   "outputs": [],
   "source": [
    "import tweepy \n",
    "import pandas as pd\n",
    "import sys\n",
    "import csv\n",
    "from twitter import *\n",
    "from tweepy import OAuthHandler"
   ]
  },
  {
   "cell_type": "code",
   "execution_count": 11,
   "metadata": {},
   "outputs": [
    {
     "ename": "NameError",
     "evalue": "name 'consumer_key' is not defined",
     "output_type": "error",
     "traceback": [
      "\u001b[0;31m---------------------------------------------------------------------------\u001b[0m",
      "\u001b[0;31mNameError\u001b[0m                                 Traceback (most recent call last)",
      "\u001b[0;32m<ipython-input-11-c017233bfc46>\u001b[0m in \u001b[0;36m<module>\u001b[0;34m()\u001b[0m\n\u001b[1;32m      4\u001b[0m access_token_secret='OiP1HPILePOIHQLAKoQqkgonvXM31Fil1HTP7BfKpMrP0')\n\u001b[1;32m      5\u001b[0m \u001b[0;34m\u001b[0m\u001b[0m\n\u001b[0;32m----> 6\u001b[0;31m \u001b[0mauth\u001b[0m \u001b[0;34m=\u001b[0m \u001b[0mOAuthHandler\u001b[0m\u001b[0;34m(\u001b[0m\u001b[0mconsumer_key\u001b[0m\u001b[0;34m,\u001b[0m \u001b[0mconsumer_secret\u001b[0m\u001b[0;34m)\u001b[0m\u001b[0;34m\u001b[0m\u001b[0m\n\u001b[0m\u001b[1;32m      7\u001b[0m \u001b[0mauth\u001b[0m\u001b[0;34m.\u001b[0m\u001b[0mset_access_token\u001b[0m\u001b[0;34m(\u001b[0m\u001b[0maccess_token\u001b[0m\u001b[0;34m,\u001b[0m \u001b[0maccess_secret\u001b[0m\u001b[0;34m)\u001b[0m\u001b[0;34m\u001b[0m\u001b[0m\n\u001b[1;32m      8\u001b[0m \u001b[0mapi\u001b[0m \u001b[0;34m=\u001b[0m \u001b[0mtweepy\u001b[0m\u001b[0;34m.\u001b[0m\u001b[0mAPI\u001b[0m\u001b[0;34m(\u001b[0m\u001b[0mauth\u001b[0m\u001b[0;34m)\u001b[0m\u001b[0;34m\u001b[0m\u001b[0m\n",
      "\u001b[0;31mNameError\u001b[0m: name 'consumer_key' is not defined"
     ]
    }
   ],
   "source": [
    "api = twitter.Api(consumer_key='ryoIytUyHBiBxK7aIk1H48la8',\n",
    "                      consumer_secret='Yzc5tDJtf6t8iJvAt6Cq6G4SPatw0AFtpOtwKodLXrNAkqlKjF',\n",
    "                      access_token_key='382027921-go6DGgjXikmEb1XZqeNYSTh1GzfoMWW4yeIU8FYB',\n",
    "access_token_secret='OiP1HPILePOIHQLAKoQqkgonvXM31Fil1HTP7BfKpMrP0')\n",
    "\n",
    "# Function to extract tweets \n",
    "def get_tweets(username): \n",
    "          \n",
    "        # Authorization to consumer key and consumer secret \n",
    "        auth = tweepy.OAuthHandler(consumer_key, consumer_secret) \n",
    "  \n",
    "        # Access to user's access key and access secret \n",
    "        auth.set_access_token(access_token_key, access_token_secret) \n",
    "  \n",
    "        # Calling api \n",
    "        api = tweepy.API(auth) \n",
    "        #set count to however many tweets you want - max count is 3200 and this doesn't have any effect if it is more than 3200\n",
    "#        number_of_tweets = 5000\n",
    "       \n",
    "        tfile = []\n",
    "        for tweet in tweepy.Cursor(api.user_timeline, screen_name = username).items():\n",
    "\n",
    "        #username, tweet id, date/time, text\n",
    "            tfile.append([username, tweet.id_str,tweet.source, tweet.created_at,tweet.retweet_count,tweet.favorite_count, tweet.text.encode(\"utf-8\")])\n",
    "\n",
    "\t#write to a new csv file from the array of tweets\n",
    "        outfile = username + \"_tweets_V1.csv\"\n",
    "        print (\"writing to \" + outfile)\n",
    "        with open(outfile, 'w+') as file:\n",
    "            writer = csv.writer(file, delimiter=',')\n",
    "            writer.writerow(['User_Name', 'Tweet_ID', 'Source', 'Created_date','Retweet_count','Favorite_count','Tweet'])\n",
    "            writer.writerows(tfile)\n",
    "# user name\n",
    "            \n",
    "# Driver code \n",
    "if __name__ == '__main__': \n",
    "  \n",
    "    # Here goes the twitter handle for the user whose tweets are to be extracted. \n",
    "    get_tweets(\"@PulseLabKampala\")"
   ]
  },
  {
   "cell_type": "code",
   "execution_count": null,
   "metadata": {
    "collapsed": true
   },
   "outputs": [],
   "source": []
  },
  {
   "cell_type": "code",
   "execution_count": null,
   "metadata": {
    "collapsed": true
   },
   "outputs": [],
   "source": []
  }
 ],
 "metadata": {
  "kernelspec": {
   "display_name": "Python 2",
   "language": "python",
   "name": "python2"
  },
  "language_info": {
   "codemirror_mode": {
    "name": "ipython",
    "version": 2
   },
   "file_extension": ".py",
   "mimetype": "text/x-python",
   "name": "python",
   "nbconvert_exporter": "python",
   "pygments_lexer": "ipython2",
   "version": "2.7.10"
  }
 },
 "nbformat": 4,
 "nbformat_minor": 2
}
