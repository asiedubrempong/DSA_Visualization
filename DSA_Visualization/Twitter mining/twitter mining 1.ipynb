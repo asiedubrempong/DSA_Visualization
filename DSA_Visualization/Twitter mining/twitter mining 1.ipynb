{
 "cells": [
  {
   "cell_type": "markdown",
   "metadata": {
    "collapsed": true
   },
   "source": [
    "## To explain the part of Setting up twitter developer access first"
   ]
  },
  {
   "cell_type": "code",
   "execution_count": 1,
   "metadata": {
    "collapsed": true
   },
   "outputs": [],
   "source": [
    "import tweepy\n",
    "import nltk\n",
    "import pandas as pd\n",
    "import sys\n",
    "import csv \n",
    "from wordcloud import WordCloud, STOPWORDS\n",
    "import matplotlib as plt\n",
    "import re\n",
    "from PIL import Image\n",
    "import json\n",
    "import twitter\n",
    "# import pandas_profiling"
   ]
  },
  {
   "cell_type": "markdown",
   "metadata": {},
   "source": [
    "## Twitter developer keys (Keys are not to be shared)"
   ]
  },
  {
   "cell_type": "code",
   "execution_count": 2,
   "metadata": {},
   "outputs": [],
   "source": [
    "# The value inside quotes must be replaced by your keys if you are using this.\n",
    "api = twitter.Api(consumer_key='ryoIytUyHBiBxK7aIk1H48la8',\n",
    "                      consumer_secret='Yzc5tDJtf6t8iJvAt6Cq6G4SPatw0AFtpOtwKodLXrNAkqlKjF',\n",
    "                      access_token_key='382027921-go6DGgjXikmEb1XZqeNYSTh1GzfoMWW4yeIU8FYB',\n",
    "access_token_secret='OiP1HPILePOIHQLAKoQqkgonvXM31Fil1HTP7BfKpMrP0')\n"
   ]
  },
  {
   "cell_type": "markdown",
   "metadata": {},
   "source": [
    "## Let's look at some tweets"
   ]
  },
  {
   "cell_type": "code",
   "execution_count": 3,
   "metadata": {},
   "outputs": [
    {
     "name": "stdout",
     "output_type": "stream",
     "text": [
      "{u'quote_count': 0, u'contributors': None, u'truncated': False, u'text': u'@linda0149448241 @KingFish_256 @JokeyUg Wtf!', u'is_quote_status': False, u'in_reply_to_status_id': 1133795548107030528, u'reply_count': 0, u'id': 1134104978195472384, u'favorite_count': 0, u'entities': {u'user_mentions': [{u'id': 1124602492279500800, u'indices': [0, 16], u'id_str': u'1124602492279500800', u'screen_name': u'linda0149448241', u'name': u'@IamLinda01'}, {u'id': 1129700164573306880, u'indices': [17, 30], u'id_str': u'1129700164573306880', u'screen_name': u'KingFish_256', u'name': u'FISH\\U0001f1fa\\U0001f1ec'}, {u'id': 1474944907, u'indices': [31, 39], u'id_str': u'1474944907', u'screen_name': u'JokeyUg', u'name': u'JOKEY \\U0001f1fa\\U0001f1ec\\U0001f4aa'}], u'symbols': [], u'hashtags': [], u'urls': []}, u'retweeted': False, u'coordinates': None, u'timestamp_ms': u'1559226672110', u'source': u'<a href=\"http://twitter.com/download/android\" rel=\"nofollow\">Twitter for Android</a>', u'in_reply_to_screen_name': u'linda0149448241', u'id_str': u'1134104978195472384', u'display_text_range': [40, 44], u'retweet_count': 0, u'in_reply_to_user_id': 1124602492279500800, u'favorited': False, u'user': {u'follow_request_sent': None, u'profile_use_background_image': True, u'default_profile_image': False, u'id': 360684745, u'default_profile': True, u'verified': False, u'profile_image_url_https': u'https://pbs.twimg.com/profile_images/1126565570097418240/iHITAEMg_normal.jpg', u'profile_sidebar_fill_color': u'DDEEF6', u'profile_text_color': u'333333', u'followers_count': 298, u'profile_sidebar_border_color': u'C0DEED', u'id_str': u'360684745', u'profile_background_color': u'C0DEED', u'listed_count': 2, u'profile_background_image_url_https': u'https://abs.twimg.com/images/themes/theme1/bg.png', u'utc_offset': None, u'statuses_count': 3070, u'description': u'Freelance architect.', u'friends_count': 392, u'location': None, u'profile_link_color': u'1DA1F2', u'profile_image_url': u'http://pbs.twimg.com/profile_images/1126565570097418240/iHITAEMg_normal.jpg', u'following': None, u'geo_enabled': True, u'profile_background_image_url': u'http://abs.twimg.com/images/themes/theme1/bg.png', u'name': u'Fx', u'lang': None, u'profile_background_tile': False, u'favourites_count': 588, u'screen_name': u'256fx', u'notifications': None, u'url': None, u'created_at': u'Tue Aug 23 16:08:47 +0000 2011', u'contributors_enabled': False, u'time_zone': None, u'protected': False, u'translator_type': u'none', u'is_translator': False}, u'geo': None, u'in_reply_to_user_id_str': u'1124602492279500800', u'lang': u'und', u'created_at': u'Thu May 30 14:31:12 +0000 2019', u'filter_level': u'low', u'in_reply_to_status_id_str': u'1133795548107030528', u'place': {u'full_name': u'Wakiso, Uganda', u'url': u'https://api.twitter.com/1.1/geo/id/0092409a629e836c.json', u'country': u'Uganda', u'place_type': u'admin', u'bounding_box': {u'type': u'Polygon', u'coordinates': [[[32.192297, -0.147789], [32.192297, 0.585072], [32.683699, 0.585072], [32.683699, -0.147789]]]}, u'country_code': u'UG', u'attributes': {}, u'id': u'0092409a629e836c', u'name': u'Wakiso'}}\n"
     ]
    }
   ],
   "source": [
    "# Filter by location; some location coordinates-https://gist.github.com/graydon/11198540\n",
    "for tweet in api.GetStreamFilter(locations = ['32.5532,0.2944,32.6212,0.3564']): \n",
    "# for tweet in api.GetStreamFilter(locations = ['16.3449768409,-34.8191663551,32.830120477,-22.0913127581']):\n",
    "    print (tweet)\n",
    "    break "
   ]
  },
  {
   "cell_type": "markdown",
   "metadata": {},
   "source": [
    "## lets save the json data to a file: stream.json"
   ]
  },
  {
   "cell_type": "code",
   "execution_count": null,
   "metadata": {},
   "outputs": [
    {
     "name": "stdout",
     "output_type": "stream",
     "text": [
      "{u'quote_count': 0, u'quoted_status_permalink': {u'url': u'https://t.co/57KdUZZ4Sz', u'expanded': u'https://twitter.com/eplbible/status/1133756746512719872', u'display': u'twitter.com/eplbible/statu\\u2026'}, u'contributors': None, u'truncated': False, u'text': u'Still rate the Arsenal 2003/4 team &amp; Chelsea 2004/5 team higher than this ManCity team.', u'is_quote_status': True, u'in_reply_to_status_id': None, u'reply_count': 0, u'id': 1134105500474327041, u'favorite_count': 0, u'entities': {u'user_mentions': [], u'symbols': [], u'hashtags': [], u'urls': []}, u'quoted_status_id': 1133756746512719872, u'retweeted': False, u'coordinates': None, u'timestamp_ms': u'1559226796631', u'quoted_status': {u'quote_count': 202, u'contributors': None, u'truncated': True, u'text': u\"FourFourTwo's list of best ever Premier League teams:\\n\\n1. Man City 2017/18\\n2. Arsenal 2003/04\\n3. Man City 2018/19\\n4\\u2026 https://t.co/K5Q2XUzKPu\", u'is_quote_status': False, u'in_reply_to_status_id': None, u'reply_count': 314, u'id': 1133756746512719872, u'favorite_count': 1684, u'entities': {u'user_mentions': [], u'symbols': [], u'hashtags': [], u'urls': [{u'url': u'https://t.co/K5Q2XUzKPu', u'indices': [117, 140], u'expanded_url': u'https://twitter.com/i/web/status/1133756746512719872', u'display_url': u'twitter.com/i/web/status/1\\u2026'}]}, u'retweeted': False, u'coordinates': None, u'source': u'<a href=\"http://twitter.com/download/iphone\" rel=\"nofollow\">Twitter for iPhone</a>', u'in_reply_to_screen_name': None, u'id_str': u'1133756746512719872', u'retweet_count': 280, u'in_reply_to_user_id': None, u'favorited': False, u'user': {u'follow_request_sent': None, u'profile_use_background_image': True, u'default_profile_image': False, u'id': 595343731, u'default_profile': False, u'verified': False, u'profile_image_url_https': u'https://pbs.twimg.com/profile_images/1113389264493060096/21WzgGGX_normal.jpg', u'profile_sidebar_fill_color': u'DDEEF6', u'profile_text_color': u'333333', u'followers_count': 617293, u'profile_sidebar_border_color': u'FFFFFF', u'id_str': u'595343731', u'profile_background_color': u'EDECE9', u'listed_count': 2718, u'profile_background_image_url_https': u'https://abs.twimg.com/images/themes/theme3/bg.gif', u'utc_offset': None, u'statuses_count': 17477, u'description': u'Your #1 source for everything Premier League related. 18+.', u'friends_count': 270, u'location': u'Barclaysbible@gmail.com', u'profile_link_color': u'3B94D9', u'profile_image_url': u'http://pbs.twimg.com/profile_images/1113389264493060096/21WzgGGX_normal.jpg', u'following': None, u'geo_enabled': True, u'profile_banner_url': u'https://pbs.twimg.com/profile_banners/595343731/1554327600', u'profile_background_image_url': u'http://abs.twimg.com/images/themes/theme3/bg.gif', u'name': u'Transfer News', u'lang': None, u'profile_background_tile': True, u'favourites_count': 4, u'screen_name': u'EPLBible', u'notifications': None, u'url': None, u'created_at': u'Thu May 31 09:35:07 +0000 2012', u'contributors_enabled': False, u'time_zone': None, u'protected': False, u'translator_type': u'none', u'is_translator': False}, u'geo': None, u'in_reply_to_user_id_str': None, u'lang': u'en', u'extended_tweet': {u'display_text_range': [0, 185], u'entities': {u'user_mentions': [], u'symbols': [], u'hashtags': [], u'urls': []}, u'full_text': u\"FourFourTwo's list of best ever Premier League teams:\\n\\n1. Man City 2017/18\\n2. Arsenal 2003/04\\n3. Man City 2018/19\\n4. Liverpool 2018/19\\n5. Chelsea 2004/05\\n6. Chelsea 2016/17\\n\\nThoughts? \\U0001f914\"}, u'created_at': u'Wed May 29 15:27:27 +0000 2019', u'filter_level': u'low', u'in_reply_to_status_id_str': None, u'place': None}, u'source': u'<a href=\"http://twitter.com/download/iphone\" rel=\"nofollow\">Twitter for iPhone</a>', u'in_reply_to_screen_name': None, u'id_str': u'1134105500474327041', u'retweet_count': 0, u'in_reply_to_user_id': None, u'favorited': False, u'user': {u'follow_request_sent': None, u'profile_use_background_image': True, u'default_profile_image': False, u'id': 65859751, u'default_profile': False, u'verified': False, u'profile_image_url_https': u'https://pbs.twimg.com/profile_images/951915067464912896/6Tc12Orp_normal.jpg', u'profile_sidebar_fill_color': u'DDEEF6', u'profile_text_color': u'333333', u'followers_count': 2078, u'profile_sidebar_border_color': u'000000', u'id_str': u'65859751', u'profile_background_color': u'C0DEED', u'listed_count': 54, u'profile_background_image_url_https': u'https://abs.twimg.com/images/themes/theme1/bg.png', u'utc_offset': None, u'statuses_count': 138490, u'description': u\"Ambivert with dire love for music, football and data. No man's knowledge here can go beyond his experience.\", u'friends_count': 863, u'location': u'kampala,uganda', u'profile_link_color': u'0084B4', u'profile_image_url': u'http://pbs.twimg.com/profile_images/951915067464912896/6Tc12Orp_normal.jpg', u'following': None, u'geo_enabled': True, u'profile_banner_url': u'https://pbs.twimg.com/profile_banners/65859751/1545216155', u'profile_background_image_url': u'http://abs.twimg.com/images/themes/theme1/bg.png', u'name': u'NANGOSYAHTOMWELLARD', u'lang': None, u'profile_background_tile': True, u'favourites_count': 4514, u'screen_name': u'thatbadGISHUboy', u'notifications': None, u'url': u'http://nangosyahtom.wordpress.com', u'created_at': u'Sat Aug 15 08:24:09 +0000 2009', u'contributors_enabled': False, u'time_zone': None, u'protected': False, u'translator_type': u'none', u'is_translator': False}, u'geo': None, u'in_reply_to_user_id_str': None, u'lang': u'en', u'created_at': u'Thu May 30 14:33:16 +0000 2019', u'quoted_status_id_str': u'1133756746512719872', u'filter_level': u'low', u'in_reply_to_status_id_str': None, u'place': {u'full_name': u'Kampala, Uganda', u'url': u'https://api.twitter.com/1.1/geo/id/000c69ad123213a8.json', u'country': u'Uganda', u'place_type': u'admin', u'bounding_box': {u'type': u'Polygon', u'coordinates': [[[32.416623, 0.164853], [32.416623, 0.413682], [32.721697, 0.413682], [32.721697, 0.164853]]]}, u'country_code': u'UG', u'attributes': {}, u'id': u'000c69ad123213a8', u'name': u'Kampala'}}\n",
      "{u'quote_count': 0, u'contributors': None, u'truncated': True, u'text': u'@YRyobara @hodjs @CastleLiteUg @johnniewalkerug @MalembeLife @PepsiUganda @mtnug @nxtradioug @lagumtherapper\\u2026 https://t.co/HK7qPdBoTj', u'is_quote_status': False, u'in_reply_to_status_id': 1134104976542883842, u'reply_count': 0, u'id': 1134105510955892738, u'favorite_count': 0, u'entities': {u'user_mentions': [{u'id': 928899905501921281, u'indices': [0, 9], u'id_str': u'928899905501921281', u'screen_name': u'YRyobara', u'name': u'Yubs'}, {u'id': 293416972, u'indices': [10, 16], u'id_str': u'293416972', u'screen_name': u'hodjs', u'name': u'House Of DJs'}, {u'id': 1578498290, u'indices': [17, 30], u'id_str': u'1578498290', u'screen_name': u'CastleLiteUg', u'name': u'Castle Lite Uganda'}, {u'id': 778235841055522817, u'indices': [31, 47], u'id_str': u'778235841055522817', u'screen_name': u'johnniewalkerug', u'name': u'Johnnie Walker UG'}, {u'id': 441753461, u'indices': [48, 60], u'id_str': u'441753461', u'screen_name': u'MalembeLife', u'name': u'MALEMBE LIFESTYLE'}, {u'id': 953416652, u'indices': [61, 73], u'id_str': u'953416652', u'screen_name': u'PepsiUganda', u'name': u'Pepsi Uganda'}, {u'id': 238115057, u'indices': [74, 80], u'id_str': u'238115057', u'screen_name': u'mtnug', u'name': u'MTN Uganda'}, {u'id': 935560333124661248, u'indices': [81, 92], u'id_str': u'935560333124661248', u'screen_name': u'nxtradioug', u'name': u'Nxt Radio'}, {u'id': 734532577, u'indices': [93, 108], u'id_str': u'734532577', u'screen_name': u'lagumtherapper', u'name': u'lagum'}], u'symbols': [], u'hashtags': [], u'urls': [{u'url': u'https://t.co/HK7qPdBoTj', u'indices': [110, 133], u'expanded_url': u'https://twitter.com/i/web/status/1134105510955892738', u'display_url': u'twitter.com/i/web/status/1\\u2026'}]}, u'retweeted': False, u'coordinates': None, u'timestamp_ms': u'1559226799130', u'source': u'<a href=\"http://twitter.com/download/iphone\" rel=\"nofollow\">Twitter for iPhone</a>', u'in_reply_to_screen_name': u'YRyobara', u'id_str': u'1134105510955892738', u'display_text_range': [117, 140], u'retweet_count': 0, u'in_reply_to_user_id': 928899905501921281, u'favorited': False, u'user': {u'follow_request_sent': None, u'profile_use_background_image': True, u'default_profile_image': False, u'id': 18184674, u'default_profile': False, u'verified': True, u'profile_image_url_https': u'https://pbs.twimg.com/profile_images/1127937541901037570/jPoEXVWx_normal.jpg', u'profile_sidebar_fill_color': u'EFEFEF', u'profile_text_color': u'333333', u'followers_count': 36453, u'profile_sidebar_border_color': u'000000', u'id_str': u'18184674', u'profile_background_color': u'131516', u'listed_count': 83, u'profile_background_image_url_https': u'https://abs.twimg.com/images/themes/theme14/bg.gif', u'utc_offset': None, u'statuses_count': 18443, u'description': u'Socks Salesman - @DapperByDenzelUG | Radio - @XfmUG | Tv - @UrbanTvUganda | Columnist - @NewVisionwire | #BTS fan | Denzel.UG@gmail.com +256791957439', u'friends_count': 4798, u'location': u'Kampala, Uganda', u'profile_link_color': u'3B94D9', u'profile_image_url': u'http://pbs.twimg.com/profile_images/1127937541901037570/jPoEXVWx_normal.jpg', u'following': None, u'geo_enabled': True, u'profile_banner_url': u'https://pbs.twimg.com/profile_banners/18184674/1556102413', u'profile_background_image_url': u'http://abs.twimg.com/images/themes/theme14/bg.gif', u'name': u'Charlie Denzel Mwiyeretsi \\U0001f1fa\\U0001f1ec', u'lang': None, u'profile_background_tile': True, u'favourites_count': 13210, u'screen_name': u'DenzelUG', u'notifications': None, u'url': u'http://www.instagram.com/DenzelUG', u'created_at': u'Wed Dec 17 07:13:50 +0000 2008', u'contributors_enabled': False, u'time_zone': None, u'protected': False, u'translator_type': u'none', u'is_translator': False}, u'geo': None, u'in_reply_to_user_id_str': u'928899905501921281', u'lang': u'en', u'extended_tweet': {u'display_text_range': [158, 210], u'entities': {u'user_mentions': [{u'id': 928899905501921281, u'indices': [0, 9], u'id_str': u'928899905501921281', u'screen_name': u'YRyobara', u'name': u'Yubs'}, {u'id': 293416972, u'indices': [10, 16], u'id_str': u'293416972', u'screen_name': u'hodjs', u'name': u'House Of DJs'}, {u'id': 1578498290, u'indices': [17, 30], u'id_str': u'1578498290', u'screen_name': u'CastleLiteUg', u'name': u'Castle Lite Uganda'}, {u'id': 778235841055522817, u'indices': [31, 47], u'id_str': u'778235841055522817', u'screen_name': u'johnniewalkerug', u'name': u'Johnnie Walker UG'}, {u'id': 441753461, u'indices': [48, 60], u'id_str': u'441753461', u'screen_name': u'MalembeLife', u'name': u'MALEMBE LIFESTYLE'}, {u'id': 953416652, u'indices': [61, 73], u'id_str': u'953416652', u'screen_name': u'PepsiUganda', u'name': u'Pepsi Uganda'}, {u'id': 238115057, u'indices': [74, 80], u'id_str': u'238115057', u'screen_name': u'mtnug', u'name': u'MTN Uganda'}, {u'id': 935560333124661248, u'indices': [81, 92], u'id_str': u'935560333124661248', u'screen_name': u'nxtradioug', u'name': u'Nxt Radio'}, {u'id': 734532577, u'indices': [93, 108], u'id_str': u'734532577', u'screen_name': u'lagumtherapper', u'name': u'lagum'}, {u'id': 115644179, u'indices': [109, 121], u'id_str': u'115644179', u'screen_name': u'KwestaDaKAR', u'name': u'\\U0001f48d#KhethileKhethile'}, {u'id': 55474598, u'indices': [122, 136], u'id_str': u'55474598', u'screen_name': u'SunELMusician', u'name': u'Sun-EL Musician'}, {u'id': 235512729, u'indices': [137, 150], u'id_str': u'235512729', u'screen_name': u'TheMithMusic', u'name': u'\\U0001f1fa\\U0001f1ec\\U0001f1fa\\U0001f1ec'}, {u'id': 2679055230, u'indices': [151, 157], u'id_str': u'2679055230', u'screen_name': u'TIDAL', u'name': u'TIDAL'}, {u'id': 55474598, u'indices': [168, 182], u'id_str': u'55474598', u'screen_name': u'SunELMusician', u'name': u'Sun-EL Musician'}], u'symbols': [], u'hashtags': [{u'indices': [196, 210], u'text': u'TheLockDownUg'}], u'urls': []}, u'full_text': u'@YRyobara @hodjs @CastleLiteUg @johnniewalkerug @MalembeLife @PepsiUganda @mtnug @nxtradioug @lagumtherapper @KwestaDaKAR @SunELMusician @TheMithMusic @TIDAL Nice! Hey @SunELMusician .. come see! #TheLockDownUg'}, u'created_at': u'Thu May 30 14:33:19 +0000 2019', u'filter_level': u'low', u'in_reply_to_status_id_str': u'1134104976542883842', u'place': {u'full_name': u'Kampala, Uganda', u'url': u'https://api.twitter.com/1.1/geo/id/000c69ad123213a8.json', u'country': u'Uganda', u'place_type': u'admin', u'bounding_box': {u'type': u'Polygon', u'coordinates': [[[32.416623, 0.164853], [32.416623, 0.413682], [32.721697, 0.413682], [32.721697, 0.164853]]]}, u'country_code': u'UG', u'attributes': {}, u'id': u'000c69ad123213a8', u'name': u'Kampala'}}\n"
     ]
    },
    {
     "name": "stdout",
     "output_type": "stream",
     "text": [
      "{u'quote_count': 0, u'contributors': None, u'truncated': True, u'text': u'@SarahSolomong @hodjs @CastleLiteUg @johnniewalkerug @MalembeLife @PepsiUganda @mtnug @nxtradioug @lagumtherapper\\u2026 https://t.co/kzD6KGfgIM', u'is_quote_status': False, u'in_reply_to_status_id': 1134084503461400576, u'reply_count': 0, u'id': 1134105629721812992, u'favorite_count': 0, u'entities': {u'user_mentions': [{u'id': 1062789286347583488, u'indices': [0, 14], u'id_str': u'1062789286347583488', u'screen_name': u'SarahSolomong', u'name': u'Sarah Solomon (Queen Solomon)'}, {u'id': 293416972, u'indices': [15, 21], u'id_str': u'293416972', u'screen_name': u'hodjs', u'name': u'House Of DJs'}, {u'id': 1578498290, u'indices': [22, 35], u'id_str': u'1578498290', u'screen_name': u'CastleLiteUg', u'name': u'Castle Lite Uganda'}, {u'id': 778235841055522817, u'indices': [36, 52], u'id_str': u'778235841055522817', u'screen_name': u'johnniewalkerug', u'name': u'Johnnie Walker UG'}, {u'id': 441753461, u'indices': [53, 65], u'id_str': u'441753461', u'screen_name': u'MalembeLife', u'name': u'MALEMBE LIFESTYLE'}, {u'id': 953416652, u'indices': [66, 78], u'id_str': u'953416652', u'screen_name': u'PepsiUganda', u'name': u'Pepsi Uganda'}, {u'id': 238115057, u'indices': [79, 85], u'id_str': u'238115057', u'screen_name': u'mtnug', u'name': u'MTN Uganda'}, {u'id': 935560333124661248, u'indices': [86, 97], u'id_str': u'935560333124661248', u'screen_name': u'nxtradioug', u'name': u'Nxt Radio'}, {u'id': 734532577, u'indices': [98, 113], u'id_str': u'734532577', u'screen_name': u'lagumtherapper', u'name': u'lagum'}], u'symbols': [], u'hashtags': [], u'urls': [{u'url': u'https://t.co/kzD6KGfgIM', u'indices': [115, 138], u'expanded_url': u'https://twitter.com/i/web/status/1134105629721812992', u'display_url': u'twitter.com/i/web/status/1\\u2026'}]}, u'retweeted': False, u'coordinates': None, u'timestamp_ms': u'1559226827446', u'source': u'<a href=\"http://twitter.com/download/iphone\" rel=\"nofollow\">Twitter for iPhone</a>', u'in_reply_to_screen_name': u'SarahSolomong', u'id_str': u'1134105629721812992', u'display_text_range': [117, 140], u'retweet_count': 0, u'in_reply_to_user_id': 1062789286347583488, u'favorited': False, u'user': {u'follow_request_sent': None, u'profile_use_background_image': True, u'default_profile_image': False, u'id': 2470590086, u'default_profile': True, u'verified': False, u'profile_image_url_https': u'https://pbs.twimg.com/profile_images/1031981799726088197/Ny2cUBJS_normal.jpg', u'profile_sidebar_fill_color': u'DDEEF6', u'profile_text_color': u'333333', u'followers_count': 2934, u'profile_sidebar_border_color': u'C0DEED', u'id_str': u'2470590086', u'profile_background_color': u'C0DEED', u'listed_count': 27, u'profile_background_image_url_https': u'https://abs.twimg.com/images/themes/theme1/bg.png', u'utc_offset': None, u'statuses_count': 65559, u'description': u'Tribal/Deep House & Reggae lover : ______________________________________________For all your Moving Errands (Office, home, etc), kindly Dm.', u'friends_count': 970, u'location': u'Kampala, Uganda', u'profile_link_color': u'1DA1F2', u'profile_image_url': u'http://pbs.twimg.com/profile_images/1031981799726088197/Ny2cUBJS_normal.jpg', u'following': None, u'geo_enabled': True, u'profile_banner_url': u'https://pbs.twimg.com/profile_banners/2470590086/1558723073', u'profile_background_image_url': u'http://abs.twimg.com/images/themes/theme1/bg.png', u'name': u'Mr. B\\xe1ldi\\xe9 R\\xe9nz\\xe9l', u'lang': None, u'profile_background_tile': False, u'favourites_count': 37970, u'screen_name': u'Kamali_21', u'notifications': None, u'url': u'http://www.quickerrands.com', u'created_at': u'Wed Apr 30 09:15:11 +0000 2014', u'contributors_enabled': False, u'time_zone': None, u'protected': False, u'translator_type': u'none', u'is_translator': False}, u'geo': None, u'in_reply_to_user_id_str': u'1062789286347583488', u'lang': u'en', u'extended_tweet': {u'display_text_range': [156, 189], u'entities': {u'user_mentions': [{u'id': 1062789286347583488, u'indices': [0, 14], u'id_str': u'1062789286347583488', u'screen_name': u'SarahSolomong', u'name': u'Sarah Solomon (Queen Solomon)'}, {u'id': 293416972, u'indices': [15, 21], u'id_str': u'293416972', u'screen_name': u'hodjs', u'name': u'House Of DJs'}, {u'id': 1578498290, u'indices': [22, 35], u'id_str': u'1578498290', u'screen_name': u'CastleLiteUg', u'name': u'Castle Lite Uganda'}, {u'id': 778235841055522817, u'indices': [36, 52], u'id_str': u'778235841055522817', u'screen_name': u'johnniewalkerug', u'name': u'Johnnie Walker UG'}, {u'id': 441753461, u'indices': [53, 65], u'id_str': u'441753461', u'screen_name': u'MalembeLife', u'name': u'MALEMBE LIFESTYLE'}, {u'id': 953416652, u'indices': [66, 78], u'id_str': u'953416652', u'screen_name': u'PepsiUganda', u'name': u'Pepsi Uganda'}, {u'id': 238115057, u'indices': [79, 85], u'id_str': u'238115057', u'screen_name': u'mtnug', u'name': u'MTN Uganda'}, {u'id': 935560333124661248, u'indices': [86, 97], u'id_str': u'935560333124661248', u'screen_name': u'nxtradioug', u'name': u'Nxt Radio'}, {u'id': 734532577, u'indices': [98, 113], u'id_str': u'734532577', u'screen_name': u'lagumtherapper', u'name': u'lagum'}, {u'id': 115644179, u'indices': [114, 126], u'id_str': u'115644179', u'screen_name': u'KwestaDaKAR', u'name': u'\\U0001f48d#KhethileKhethile'}, {u'id': 55474598, u'indices': [127, 141], u'id_str': u'55474598', u'screen_name': u'SunELMusician', u'name': u'Sun-EL Musician'}, {u'id': 235512729, u'indices': [142, 155], u'id_str': u'235512729', u'screen_name': u'TheMithMusic', u'name': u'\\U0001f1fa\\U0001f1ec\\U0001f1fa\\U0001f1ec'}], u'symbols': [], u'hashtags': [], u'urls': []}, u'full_text': u'@SarahSolomong @hodjs @CastleLiteUg @johnniewalkerug @MalembeLife @PepsiUganda @mtnug @nxtradioug @lagumtherapper @KwestaDaKAR @SunELMusician @TheMithMusic \"He doesn\\'t have money\" I think \\U0001f61c'}, u'created_at': u'Thu May 30 14:33:47 +0000 2019', u'filter_level': u'low', u'in_reply_to_status_id_str': u'1134084503461400576', u'place': {u'full_name': u'Wakiso, Uganda', u'url': u'https://api.twitter.com/1.1/geo/id/0092409a629e836c.json', u'country': u'Uganda', u'place_type': u'admin', u'bounding_box': {u'type': u'Polygon', u'coordinates': [[[32.192297, -0.147789], [32.192297, 0.585072], [32.683699, 0.585072], [32.683699, -0.147789]]]}, u'country_code': u'UG', u'attributes': {}, u'id': u'0092409a629e836c', u'name': u'Wakiso'}}\n",
      "{u'quote_count': 0, u'contributors': None, u'truncated': True, u'text': u\"@CarolNatukunda Ohh God!!\\nThat's why they use HS codes. Tax collectors may not know all the products but they'll kn\\u2026 https://t.co/QLUZtbxpzY\", u'is_quote_status': False, u'in_reply_to_status_id': 1134104996881063938, u'reply_count': 0, u'id': 1134105640115290112, u'favorite_count': 0, u'entities': {u'user_mentions': [{u'id': 437573692, u'indices': [0, 15], u'id_str': u'437573692', u'screen_name': u'CarolNatukunda', u'name': u'Carol Natukunda'}], u'symbols': [], u'hashtags': [], u'urls': [{u'url': u'https://t.co/QLUZtbxpzY', u'indices': [117, 140], u'expanded_url': u'https://twitter.com/i/web/status/1134105640115290112', u'display_url': u'twitter.com/i/web/status/1\\u2026'}]}, u'retweeted': False, u'coordinates': None, u'timestamp_ms': u'1559226829924', u'source': u'<a href=\"http://twitter.com/download/android\" rel=\"nofollow\">Twitter for Android</a>', u'in_reply_to_screen_name': u'CarolNatukunda', u'id_str': u'1134105640115290112', u'display_text_range': [16, 140], u'retweet_count': 0, u'in_reply_to_user_id': 437573692, u'favorited': False, u'user': {u'follow_request_sent': None, u'profile_use_background_image': False, u'default_profile_image': False, u'id': 725791584910888961, u'default_profile': False, u'verified': False, u'profile_image_url_https': u'https://pbs.twimg.com/profile_images/1031132166036631552/Yewxcyqo_normal.jpg', u'profile_sidebar_fill_color': u'000000', u'profile_text_color': u'000000', u'followers_count': 814, u'profile_sidebar_border_color': u'000000', u'id_str': u'725791584910888961', u'profile_background_color': u'000000', u'listed_count': 1, u'profile_background_image_url_https': u'https://abs.twimg.com/images/themes/theme1/bg.png', u'utc_offset': None, u'statuses_count': 6491, u'description': u\"If you'll unfollow, don't bother following. Am sorry, am not as funny as you thought!\\n\\n\\u300aI follow back\\u300b\\n\\nhttps://t.co/Yo7CK0w6q1\\nhttps://t.co/M7rLbRqS4L\", u'friends_count': 1379, u'location': u'Happiness ', u'profile_link_color': u'1B95E0', u'profile_image_url': u'http://pbs.twimg.com/profile_images/1031132166036631552/Yewxcyqo_normal.jpg', u'following': None, u'geo_enabled': True, u'profile_banner_url': u'https://pbs.twimg.com/profile_banners/725791584910888961/1512753773', u'profile_background_image_url': u'http://abs.twimg.com/images/themes/theme1/bg.png', u'name': u'The incorruptible seed', u'lang': None, u'profile_background_tile': False, u'favourites_count': 4717, u'screen_name': u'jnkomaho', u'notifications': None, u'url': None, u'created_at': u'Thu Apr 28 20:59:33 +0000 2016', u'contributors_enabled': False, u'time_zone': None, u'protected': False, u'translator_type': u'none', u'is_translator': False}, u'geo': None, u'in_reply_to_user_id_str': u'437573692', u'lang': u'en', u'extended_tweet': {u'display_text_range': [16, 163], u'entities': {u'user_mentions': [{u'id': 437573692, u'indices': [0, 15], u'id_str': u'437573692', u'screen_name': u'CarolNatukunda', u'name': u'Carol Natukunda'}], u'symbols': [], u'hashtags': [], u'urls': []}, u'full_text': u\"@CarolNatukunda Ohh God!!\\nThat's why they use HS codes. Tax collectors may not know all the products but they'll know which category they belong too hence HS code.\"}, u'created_at': u'Thu May 30 14:33:49 +0000 2019', u'filter_level': u'low', u'in_reply_to_status_id_str': u'1134104996881063938', u'place': {u'full_name': u'Kampala, Uganda', u'url': u'https://api.twitter.com/1.1/geo/id/000c69ad123213a8.json', u'country': u'Uganda', u'place_type': u'admin', u'bounding_box': {u'type': u'Polygon', u'coordinates': [[[32.416623, 0.164853], [32.416623, 0.413682], [32.721697, 0.413682], [32.721697, 0.164853]]]}, u'country_code': u'UG', u'attributes': {}, u'id': u'000c69ad123213a8', u'name': u'Kampala'}}\n"
     ]
    },
    {
     "name": "stdout",
     "output_type": "stream",
     "text": [
      "{u'quote_count': 0, u'contributors': None, u'truncated': False, u'text': u'Going in style', u'is_quote_status': False, u'in_reply_to_status_id': None, u'reply_count': 0, u'id': 1134105658436046849, u'favorite_count': 0, u'source': u'<a href=\"http://twitter.com\" rel=\"nofollow\">Twitter Web Client</a>', u'retweeted': False, u'coordinates': None, u'timestamp_ms': u'1559226834292', u'entities': {u'user_mentions': [], u'symbols': [], u'hashtags': [], u'urls': []}, u'in_reply_to_screen_name': None, u'id_str': u'1134105658436046849', u'retweet_count': 0, u'in_reply_to_user_id': None, u'favorited': False, u'user': {u'follow_request_sent': None, u'profile_use_background_image': True, u'default_profile_image': False, u'id': 242344900, u'default_profile': False, u'verified': False, u'profile_image_url_https': u'https://pbs.twimg.com/profile_images/1123873687965458435/QCj_nX-j_normal.jpg', u'profile_sidebar_fill_color': u'EFEFEF', u'profile_text_color': u'333333', u'followers_count': 3622, u'profile_sidebar_border_color': u'000000', u'id_str': u'242344900', u'profile_background_color': u'131516', u'listed_count': 26, u'profile_background_image_url_https': u'https://abs.twimg.com/images/themes/theme14/bg.gif', u'utc_offset': None, u'statuses_count': 61391, u'description': u'A lover of people, helper and talker (a noise maker). Interest-Music,Finance, movies, Digital stuff and Cakes.', u'friends_count': 710, u'location': u'Kampala, Uganda', u'profile_link_color': u'1B95E0', u'profile_image_url': u'http://pbs.twimg.com/profile_images/1123873687965458435/QCj_nX-j_normal.jpg', u'following': None, u'geo_enabled': True, u'profile_banner_url': u'https://pbs.twimg.com/profile_banners/242344900/1512286470', u'profile_background_image_url': u'http://abs.twimg.com/images/themes/theme14/bg.gif', u'name': u'Reagan W. Mbabali', u'lang': None, u'profile_background_tile': True, u'favourites_count': 6983, u'screen_name': u'Snipet7', u'notifications': None, u'url': u'http://reagansnipet7.wordpress.com', u'created_at': u'Mon Jan 24 15:28:54 +0000 2011', u'contributors_enabled': False, u'time_zone': None, u'protected': False, u'translator_type': u'none', u'is_translator': False}, u'geo': None, u'in_reply_to_user_id_str': None, u'lang': u'en', u'created_at': u'Thu May 30 14:33:54 +0000 2019', u'filter_level': u'low', u'in_reply_to_status_id_str': None, u'place': {u'full_name': u'Uganda', u'url': u'https://api.twitter.com/1.1/geo/id/939067979a7f3b95.json', u'country': u'Uganda', u'place_type': u'country', u'bounding_box': {u'type': u'Polygon', u'coordinates': [[[29.573568, -1.481289], [29.573568, 4.23164], [35.03605, 4.23164], [35.03605, -1.481289]]]}, u'country_code': u'UG', u'attributes': {}, u'id': u'939067979a7f3b95', u'name': u'Uganda'}}\n",
      "{u'quote_count': 0, u'contributors': None, u'truncated': False, u'text': u'@QuteJR It kills them to retweet a tweet with a # tag promoting something. Witches \\U0001f602\\U0001f602\\U0001f602\\U0001f602\\U0001f602\\U0001f602', u'is_quote_status': False, u'in_reply_to_status_id': 1134105315748790273, u'reply_count': 0, u'id': 1134105662848471040, u'favorite_count': 0, u'entities': {u'user_mentions': [{u'id': 1346118158, u'indices': [0, 7], u'id_str': u'1346118158', u'screen_name': u'QuteJR', u'name': u'J\\xf8n ry\\xe1ns\\u2122'}], u'symbols': [], u'hashtags': [], u'urls': []}, u'retweeted': False, u'coordinates': None, u'timestamp_ms': u'1559226835344', u'source': u'<a href=\"http://twitter.com/download/android\" rel=\"nofollow\">Twitter for Android</a>', u'in_reply_to_screen_name': u'QuteJR', u'id_str': u'1134105662848471040', u'display_text_range': [8, 89], u'retweet_count': 0, u'in_reply_to_user_id': 1346118158, u'favorited': False, u'user': {u'follow_request_sent': None, u'profile_use_background_image': True, u'default_profile_image': False, u'id': 935958230525730816, u'default_profile': True, u'verified': False, u'profile_image_url_https': u'https://pbs.twimg.com/profile_images/1133778032538341383/mFn1AhZF_normal.jpg', u'profile_sidebar_fill_color': u'DDEEF6', u'profile_text_color': u'333333', u'followers_count': 11181, u'profile_sidebar_border_color': u'C0DEED', u'id_str': u'935958230525730816', u'profile_background_color': u'F5F8FA', u'listed_count': 3, u'profile_background_image_url_https': u'', u'utc_offset': None, u'statuses_count': 151109, u'description': u'Real Madrid Club De F\\xfatbol \\u2022 BMW \\u2022 House Targaryen \\u2022 The life I need is a little distant \\u2022 #JubilewoCup110k \\u2022 #Rockets', u'friends_count': 11557, u'location': u'Wakiso, Uganda', u'profile_link_color': u'1DA1F2', u'profile_image_url': u'http://pbs.twimg.com/profile_images/1133778032538341383/mFn1AhZF_normal.jpg', u'following': None, u'geo_enabled': True, u'profile_banner_url': u'https://pbs.twimg.com/profile_banners/935958230525730816/1557946540', u'profile_background_image_url': u'', u'name': u'juli\\xf8 ( \\u6731\\u5229\\u53f6\\u65af )', u'lang': None, u'profile_background_tile': False, u'favourites_count': 130468, u'screen_name': u'baketerana', u'notifications': None, u'url': u'https://youtu.be/PL1r7zujSrk', u'created_at': u'Wed Nov 29 19:46:46 +0000 2017', u'contributors_enabled': False, u'time_zone': None, u'protected': False, u'translator_type': u'none', u'is_translator': False}, u'geo': None, u'in_reply_to_user_id_str': u'1346118158', u'lang': u'en', u'created_at': u'Thu May 30 14:33:55 +0000 2019', u'filter_level': u'low', u'in_reply_to_status_id_str': u'1134105315748790273', u'place': {u'full_name': u'Kampala, Uganda', u'url': u'https://api.twitter.com/1.1/geo/id/000c69ad123213a8.json', u'country': u'Uganda', u'place_type': u'admin', u'bounding_box': {u'type': u'Polygon', u'coordinates': [[[32.416623, 0.164853], [32.416623, 0.413682], [32.721697, 0.413682], [32.721697, 0.164853]]]}, u'country_code': u'UG', u'attributes': {}, u'id': u'000c69ad123213a8', u'name': u'Kampala'}}\n"
     ]
    }
   ],
   "source": [
    "# \"\\n\" is new line. We save the data to a file,\n",
    "# with each new line we save all the information related to one tweet\n",
    "f = open('./stream1.json', 'w')\n",
    "for tweet in api.GetStreamFilter(locations = ['32.5532,0.2944,32.6212,0.3564']):\n",
    "    f.write(json.dumps(tweet))\n",
    "    f.write('\\n') \n",
    "    print (tweet)"
   ]
  },
  {
   "cell_type": "code",
   "execution_count": 25,
   "metadata": {},
   "outputs": [
    {
     "ename": "IOError",
     "evalue": "[Errno 2] No such file or directory: './streamingData1.json'",
     "output_type": "error",
     "traceback": [
      "\u001b[0;31m---------------------------------------------------------------------------\u001b[0m",
      "\u001b[0;31mIOError\u001b[0m                                   Traceback (most recent call last)",
      "\u001b[0;32m<ipython-input-25-334fa196540e>\u001b[0m in \u001b[0;36m<module>\u001b[0;34m()\u001b[0m\n\u001b[1;32m      1\u001b[0m \u001b[0;31m#Upload the json file and append it to a list\u001b[0m\u001b[0;34m\u001b[0m\u001b[0;34m\u001b[0m\u001b[0m\n\u001b[1;32m      2\u001b[0m \u001b[0mdata\u001b[0m\u001b[0;34m=\u001b[0m\u001b[0;34m[\u001b[0m\u001b[0;34m]\u001b[0m\u001b[0;34m\u001b[0m\u001b[0m\n\u001b[0;32m----> 3\u001b[0;31m \u001b[0;32mwith\u001b[0m \u001b[0mopen\u001b[0m\u001b[0;34m(\u001b[0m\u001b[0;34m'./streamingData1.json'\u001b[0m\u001b[0;34m,\u001b[0m \u001b[0;34m'r'\u001b[0m\u001b[0;34m)\u001b[0m \u001b[0;32mas\u001b[0m \u001b[0mjsonFile\u001b[0m\u001b[0;34m:\u001b[0m\u001b[0;34m\u001b[0m\u001b[0m\n\u001b[0m\u001b[1;32m      4\u001b[0m     \u001b[0;32mfor\u001b[0m \u001b[0mline\u001b[0m \u001b[0;32min\u001b[0m \u001b[0mjsonFile\u001b[0m\u001b[0;34m:\u001b[0m\u001b[0;34m\u001b[0m\u001b[0m\n\u001b[1;32m      5\u001b[0m         \u001b[0mdata\u001b[0m\u001b[0;34m.\u001b[0m\u001b[0mappend\u001b[0m\u001b[0;34m(\u001b[0m\u001b[0mjson\u001b[0m\u001b[0;34m.\u001b[0m\u001b[0mloads\u001b[0m\u001b[0;34m(\u001b[0m\u001b[0mline\u001b[0m\u001b[0;34m)\u001b[0m\u001b[0;34m)\u001b[0m\u001b[0;34m\u001b[0m\u001b[0m\n",
      "\u001b[0;31mIOError\u001b[0m: [Errno 2] No such file or directory: './streamingData1.json'"
     ]
    }
   ],
   "source": [
    "#Upload the json file and append it to a list\n",
    "data=[]\n",
    "with open('./streamingData1.json', 'r') as jsonFile:\n",
    "    for line in jsonFile:\n",
    "        data.append(json.loads(line))\n",
    "print (\"Total number of tweets loaded: \", len(data))\n",
    "print(data)"
   ]
  },
  {
   "cell_type": "code",
   "execution_count": null,
   "metadata": {
    "collapsed": true
   },
   "outputs": [],
   "source": []
  },
  {
   "cell_type": "code",
   "execution_count": null,
   "metadata": {
    "collapsed": true
   },
   "outputs": [],
   "source": [
    "print (data[0].keys())   # properties\n",
    "print (data[0][\"text\"])  # how to access the  tweet message itself"
   ]
  },
  {
   "cell_type": "code",
   "execution_count": null,
   "metadata": {
    "collapsed": true
   },
   "outputs": [],
   "source": [
    "# The dictionary consists of a lot of information like created, user ID, retweeted, timestamp, etc. \n",
    "# Just read from the dictionary what information you need and then proceed with the text mining and visualization."
   ]
  },
  {
   "cell_type": "code",
   "execution_count": null,
   "metadata": {
    "collapsed": true
   },
   "outputs": [],
   "source": [
    "# About the search API or REST API\n",
    "# Twitter’s Search API gives you access to a data set that already exists from tweets that have occurred. \n",
    "# For an individual user, the maximum number of tweets you can receive is the last 3,200 tweets, regardless of the query criteria. \n",
    "# With a specific keyword, you can typically only poll the last 5,000 tweets per keyword. \n",
    "# You are further limited by the number of requests you can make in a certain time period. \n",
    "# The Twitter request limits have changed over the years but are currently limited to 180 requests in a 15 minute period.\n"
   ]
  }
 ],
 "metadata": {
  "kernelspec": {
   "display_name": "Python 2",
   "language": "python",
   "name": "python2"
  },
  "language_info": {
   "codemirror_mode": {
    "name": "ipython",
    "version": 2
   },
   "file_extension": ".py",
   "mimetype": "text/x-python",
   "name": "python",
   "nbconvert_exporter": "python",
   "pygments_lexer": "ipython2",
   "version": "2.7.10"
  }
 },
 "nbformat": 4,
 "nbformat_minor": 2
}
